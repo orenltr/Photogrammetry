{
 "cells": [
  {
   "attachments": {},
   "cell_type": "markdown",
   "metadata": {},
   "source": [
    "## HW1 - generate block simulation data and solve for the parameters"
   ]
  },
  {
   "cell_type": "code",
   "execution_count": null,
   "metadata": {},
   "outputs": [],
   "source": [
    "import numpy as np\n",
    "import matplotlib.pyplot as plt\n",
    "import pandas as pd\n",
    "import MatrixMethods as mm\n",
    "from SingleImage import SingleImage\n",
    "from ImageBlock import ImageBlock\n",
    "from BlockSimulation import *\n",
    "from scipy import linalg as la\n",
    "\n",
    "\n",
    "# Set print options to suppress scientific notation\n",
    "np.set_printoptions(suppress=True)"
   ]
  },
  {
   "attachments": {},
   "cell_type": "markdown",
   "metadata": {},
   "source": [
    "## Part 1 - Simulate block of images"
   ]
  },
  {
   "cell_type": "code",
   "execution_count": null,
   "metadata": {},
   "outputs": [],
   "source": [
    "# define random seed\n",
    "np.random.seed(0)\n",
    "\n",
    "a = SimulateBlock(50, (36, 24), overlap=0.6 , num_images=2, tie_pattern='3 mid frame', control_pattern='random block',num_control_points=4, rotaions_sigma=10, altitude=1000)\n",
    "\n",
    "block = a.simulate_block()"
   ]
  },
  {
   "cell_type": "code",
   "execution_count": null,
   "metadata": {},
   "outputs": [],
   "source": [
    "ax = block.draw_block(anotate=True)\n",
    "ax.axis('equal')\n",
    "plt.show()"
   ]
  },
  {
   "cell_type": "code",
   "execution_count": null,
   "metadata": {},
   "outputs": [],
   "source": [
    "block.describe_block()"
   ]
  },
  {
   "attachments": {},
   "cell_type": "markdown",
   "metadata": {},
   "source": [
    "## Part 2 - Bundle Adjustment"
   ]
  },
  {
   "cell_type": "code",
   "execution_count": null,
   "metadata": {},
   "outputs": [],
   "source": [
    "img = block.images[0]\n",
    "Compute3DRotationMatrix(*img.exteriorOrientationParameters[3:])"
   ]
  },
  {
   "cell_type": "code",
   "execution_count": null,
   "metadata": {},
   "outputs": [],
   "source": [
    "# drawing A matrix\n",
    "A = block.ComputeDesignMatrix()\n",
    "plt.figure(figsize=(10,10))\n",
    "plt.spy(A)\n",
    "plt.grid()\n",
    "plt.show()"
   ]
  },
  {
   "cell_type": "code",
   "execution_count": null,
   "metadata": {},
   "outputs": [],
   "source": [
    "# drawing A matrix\n",
    "N = np.dot(A.T, A)\n",
    "plt.figure(figsize=(10,10))\n",
    "plt.spy(N)\n",
    "plt.grid()\n",
    "plt.show()"
   ]
  },
  {
   "cell_type": "code",
   "execution_count": null,
   "metadata": {},
   "outputs": [],
   "source": [
    "X = block.compute_variables_vector()"
   ]
  },
  {
   "cell_type": "code",
   "execution_count": null,
   "metadata": {},
   "outputs": [],
   "source": [
    "X"
   ]
  },
  {
   "cell_type": "code",
   "execution_count": null,
   "metadata": {},
   "outputs": [],
   "source": [
    "lb = block.create_lb_vector()\n",
    "l0 = block.compute_observation_vector()"
   ]
  },
  {
   "cell_type": "code",
   "execution_count": null,
   "metadata": {},
   "outputs": [],
   "source": [
    "lb = lb.astype(np.float64)"
   ]
  },
  {
   "cell_type": "code",
   "execution_count": null,
   "metadata": {},
   "outputs": [],
   "source": [
    "len(lb)/2"
   ]
  },
  {
   "cell_type": "code",
   "execution_count": null,
   "metadata": {},
   "outputs": [],
   "source": [
    "print(np.round(lb,3))\n",
    "print()\n",
    "# rounding l0 to 3 digits after the decimal point\n",
    "print(np.round(l0,3))\n"
   ]
  },
  {
   "cell_type": "code",
   "execution_count": null,
   "metadata": {},
   "outputs": [],
   "source": [
    "block.images[0].tie_points"
   ]
  },
  {
   "cell_type": "code",
   "execution_count": null,
   "metadata": {},
   "outputs": [],
   "source": [
    "a = SimulateBlock(50, (36, 24), overlap=0.6 , num_images=2, tie_pattern='3 mid frame', control_pattern='random block',num_control_points=4, rotaions_sigma=10, altitude=1000, sigma_location_noise=100, sigma_rotation_noise=20)\n",
    "block = a.simulate_block()\n",
    "X,RMSE,sigmaX = block.BundleAdjustment(0.01,100)"
   ]
  },
  {
   "cell_type": "code",
   "execution_count": null,
   "metadata": {},
   "outputs": [],
   "source": [
    "print(a.images[0].exteriorOrientationParameters, '\\n')\n",
    "print(a.images_noisy[0].exteriorOrientationParameters, '\\n')\n",
    "print(block.images[0].exteriorOrientationParameters)"
   ]
  }
 ],
 "metadata": {
  "kernelspec": {
   "display_name": "Python 3",
   "language": "python",
   "name": "python3"
  },
  "language_info": {
   "codemirror_mode": {
    "name": "ipython",
    "version": 3
   },
   "file_extension": ".py",
   "mimetype": "text/x-python",
   "name": "python",
   "nbconvert_exporter": "python",
   "pygments_lexer": "ipython3",
   "version": "3.9.13"
  },
  "orig_nbformat": 4
 },
 "nbformat": 4,
 "nbformat_minor": 2
}
