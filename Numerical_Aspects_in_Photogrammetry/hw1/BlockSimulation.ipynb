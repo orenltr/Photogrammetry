{
 "cells": [
  {
   "attachments": {},
   "cell_type": "markdown",
   "metadata": {},
   "source": [
    "## HW1 - generate block simulation data and solve for the parameters"
   ]
  },
  {
   "cell_type": "code",
   "execution_count": 1,
   "metadata": {},
   "outputs": [
    {
     "data": {
      "image/png": "[encoded data removed]",
      "text/plain": [
       "<Figure size 432x288 with 1 Axes>"
      ]
     },
     "metadata": {
      "needs_background": "light"
     },
     "output_type": "display_data"
    }
   ],
   "source": [
    "import numpy as np\n",
    "import matplotlib.pyplot as plt\n",
    "import pandas as pd\n",
    "import MatrixMethods as mm\n",
    "from SingleImage import *\n",
    "from ImageBlock import *\n"
   ]
  },
  {
   "cell_type": "code",
   "execution_count": 2,
   "metadata": {},
   "outputs": [],
   "source": [
    "class Camera:\n",
    "    def __init__(self, focal_length, sensor_size):\n",
    "        self.focal_length = focal_length\n",
    "        self.sensor_size = sensor_size # tuple of (width, height) in mm"
   ]
  },
  {
   "cell_type": "code",
   "execution_count": 3,
   "metadata": {},
   "outputs": [],
   "source": [
    "# create class for simulate block of images\n",
    "class SimulateBlock:\n",
    "    def __init__(self, focal_length, image_size, overlap=0.6 , num_images=2, tie_pattern='3 mid frame', control_pattern='random', rotaions_sigma=5, altitude=100):\n",
    "        \n",
    "        self.focal_length = focal_length # in mm\n",
    "        self.image_size = image_size # tuple of (width, height) in mm\n",
    "        self.overlap = overlap # in fraction of image size\n",
    "        self.num_images = num_images\n",
    "        self.tie_pattern = tie_pattern # '3 mid frame', '4 corners'\n",
    "        self.control_pattern = control_pattern\n",
    "        self.rotaions_sigma = rotaions_sigma # in arcsec\n",
    "        self.altitude = altitude # in m\n",
    "        self.images = []\n",
    "        self.tie_points = []\n",
    "        self.control_points = []\n",
    "        self.camera = Camera(focal_length, image_size)\n",
    "        self.block = []\n",
    "        \n",
    "    # create image_height and image_width properties\n",
    "    @property\n",
    "    def image_height(self):\n",
    "        return self.image_size[1]\n",
    "    \n",
    "    @property\n",
    "    def image_width(self):\n",
    "        return self.image_size[0]\n",
    "    \n",
    "        \n",
    "    def simulate_image(self, image_id, camera, tie_pattern, location):\n",
    "        # simulate tie points\n",
    "        tie_points = self.simulate_tie_points(tie_pattern, image_id=image_id)\n",
    "        # simulate rotation angles\n",
    "        rotation = self.simulate_rotation(self.rotaions_sigma)\n",
    "        exteriorOrientationParameters = np.concatenate((location, rotation))\n",
    "        # initialize image\n",
    "        image = SingleImage(camera, image_id, exteriorOrientationParameters, tie_points)\n",
    "        \n",
    "        \n",
    "        return image\n",
    "    \n",
    "    def simulate_tie_points(self, tie_pattern, backoff=0.9, image_id=0):\n",
    "        \"\"\"Simulate tie points in the image\n",
    "        inputs: \n",
    "        tie_pattern: '3 mid frame', '4 corners'\n",
    "        backoff: backoff from the edge of the image in fraction of image size\n",
    "        outputs:\n",
    "        tie_points: list of tie points in the image\n",
    "        \"\"\"\n",
    "        if tie_pattern == '3 mid frame':\n",
    "            tie_points = [(0, -self.image_height/2*(backoff), 'T0', image_id),\n",
    "                          (0, 0, 'T1', image_id),\n",
    "                          (0, +self.image_height/2*backoff, 'T2', image_id)]\n",
    "        elif tie_pattern == '4 corners':\n",
    "            tie_points = [(-self.image_width/2*backoff, -self.image_height/2*backoff, 'T0', image_id),\n",
    "                          (self.image_width/2*backoff, -self.image_height/2*backoff, 'T1', image_id),\n",
    "                          (-self.image_width/2*backoff, self.image_height/2*backoff, 'T2', image_id),\n",
    "                          (self.image_width/2*backoff, self.image_height/2*backoff, 'T3', image_id)]\n",
    "        else:\n",
    "            print('Invalid tie pattern')\n",
    "            \n",
    "        # convert to dataframe\n",
    "        tie_points = pd.DataFrame(tie_points, columns=['x', 'y', 'name', 'image_id'])\n",
    "        return tie_points\n",
    "\n",
    "    def simulate_rotation(self, sigma):\n",
    "        \"\"\"Simulate rotation angles in arcsec\n",
    "        inputs:\n",
    "        sigma: standard deviation of rotation angles in arcsec\n",
    "        outputs:\n",
    "        rotation: rotation angles in arcsec\n",
    "        \"\"\"\n",
    "        rotation = np.radians(np.random.normal(0, sigma, 3))        \n",
    "        return rotation\n",
    "        \n",
    "    def simulate_image_locations(self):\n",
    "        \"\"\"Simulate image locations\n",
    "        inputs:\n",
    "        overlap: overlap between images in fraction of image size\n",
    "        num_images: number of images\n",
    "        outputs:\n",
    "        image_locations: list of image locations\n",
    "        \"\"\"\n",
    "        # calculate image locations\n",
    "        image_locations = []\n",
    "        for i in range(self.num_images):\n",
    "            image_locations.append((i*self.image_width*(1-self.overlap), 0, self.altitude))\n",
    "        return image_locations\n",
    "\n",
    "    def simulate_block(self):\n",
    "        \"\"\"Simulate block of images\n",
    "        inputs:\n",
    "        self\n",
    "        outputs:\n",
    "        block: list of images\n",
    "        \"\"\"\n",
    "        # calculate image locations\n",
    "        image_locations = self.simulate_image_locations()\n",
    "        \n",
    "        tie_points = []\n",
    "        # simulate images\n",
    "        for i in range(self.num_images):\n",
    "\n",
    "            image = self.simulate_image(i, self.camera, self.tie_pattern, image_locations[i])\n",
    "            tie_points.append(image.tie_points)\n",
    "            self.images.append(image)\n",
    "        # create block\n",
    "        block = ImageBlock(self.images, tie_points, self.control_points, None)\n",
    "        return block\n",
    "    \n",
    "    "
   ]
  },
  {
   "cell_type": "code",
   "execution_count": 4,
   "metadata": {},
   "outputs": [],
   "source": [
    "a = SimulateBlock(50, (36, 24), overlap=0.6 , num_images=4, tie_pattern='4 corners', control_pattern='random', rotaions_sigma=0, altitude=100)\n",
    "\n",
    "block = a.simulate_block()"
   ]
  },
  {
   "cell_type": "code",
   "execution_count": 5,
   "metadata": {},
   "outputs": [
    {
     "data": {
      "image/png": "[encoded data removed]",
      "text/plain": [
       "<Figure size 720x720 with 1 Axes>"
      ]
     },
     "metadata": {
      "needs_background": "light"
     },
     "output_type": "display_data"
    }
   ],
   "source": [
    "# create figure\n",
    "fig, ax = plt.subplots(1, 1, figsize=(10, 10))\n",
    "\n",
    "block.images[0].draw_frame(ax)\n",
    "block.images[0].draw_tie_points(ax)\n",
    "block.images[1].draw_frame(ax)\n",
    "block.images[1].draw_tie_points(ax)\n",
    "plt.show()"
   ]
  },
  {
   "cell_type": "code",
   "execution_count": 6,
   "metadata": {},
   "outputs": [
    {
     "data": {
      "image/png": "[encoded data removed]",
      "text/plain": [
       "<Figure size 720x720 with 1 Axes>"
      ]
     },
     "metadata": {
      "needs_background": "light"
     },
     "output_type": "display_data"
    }
   ],
   "source": [
    "block.draw_block(anotate=True)"
   ]
  },
  {
   "cell_type": "code",
   "execution_count": 7,
   "metadata": {},
   "outputs": [
    {
     "data": {
      "image/png": "[encoded data removed]",
      "text/plain": [
       "<Figure size 720x720 with 1 Axes>"
      ]
     },
     "metadata": {
      "needs_background": "light"
     },
     "output_type": "display_data"
    }
   ],
   "source": [
    "# create figure\n",
    "fig, ax = plt.subplots(1, 1, figsize=(10, 10))\n",
    "\n",
    "a.images[0].draw_frame(ax)\n",
    "a.images[0].draw_tie_points(ax)\n",
    "a.images[1].draw_frame(ax)\n",
    "a.images[1].draw_tie_points(ax)\n",
    "plt.show()"
   ]
  },
  {
   "cell_type": "code",
   "execution_count": 8,
   "metadata": {},
   "outputs": [
    {
     "name": "stdout",
     "output_type": "stream",
     "text": [
      "      x     y name  image_id\n",
      "0 -16.2 -10.8   T0         0\n",
      "1  16.2 -10.8   T1         0\n",
      "2 -16.2  10.8   T2         0\n",
      "3  16.2  10.8   T3         0\n"
     ]
    }
   ],
   "source": [
    "print(a.images[0].tie_points)\n"
   ]
  },
  {
   "cell_type": "code",
   "execution_count": null,
   "metadata": {},
   "outputs": [],
   "source": []
  }
 ],
 "metadata": {
  "kernelspec": {
   "display_name": "Python 3",
   "language": "python",
   "name": "python3"
  },
  "language_info": {
   "codemirror_mode": {
    "name": "ipython",
    "version": 3
   },
   "file_extension": ".py",
   "mimetype": "text/x-python",
   "name": "python",
   "nbconvert_exporter": "python",
   "pygments_lexer": "ipython3",
   "version": "3.10.11"
  },
  "orig_nbformat": 4
 },
 "nbformat": 4,
 "nbformat_minor": 2
}
