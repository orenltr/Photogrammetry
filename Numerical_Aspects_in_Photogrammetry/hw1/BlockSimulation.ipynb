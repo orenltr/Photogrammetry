{
 "cells": [
  {
   "attachments": {},
   "cell_type": "markdown",
   "metadata": {},
   "source": [
    "## HW1 - generate block simulation data and solve for the parameters"
   ]
  },
  {
   "cell_type": "code",
   "execution_count": 1,
   "metadata": {},
   "outputs": [],
   "source": [
    "import numpy as np\n",
    "import matplotlib.pyplot as plt\n",
    "import pandas as pd\n",
    "import MatrixMethods as mm\n",
    "from SingleImage import SingleImage\n",
    "from ImageBlock import ImageBlock\n",
    "from BlockSimulation import *"
   ]
  },
  {
   "cell_type": "code",
   "execution_count": 9,
   "metadata": {},
   "outputs": [],
   "source": [
    "a = SimulateBlock(50, (36, 24), overlap=0.6 , num_images=4, tie_pattern='3 mid frame', control_pattern='random block',num_control_points=10, rotaions_sigma=0, altitude=1000)\n",
    "\n",
    "block = a.simulate_block()"
   ]
  },
  {
   "cell_type": "code",
   "execution_count": 10,
   "metadata": {},
   "outputs": [
    {
     "data": {
      "text/html": [
       "<div>\n",
       "<style scoped>\n",
       "    .dataframe tbody tr th:only-of-type {\n",
       "        vertical-align: middle;\n",
       "    }\n",
       "\n",
       "    .dataframe tbody tr th {\n",
       "        vertical-align: top;\n",
       "    }\n",
       "\n",
       "    .dataframe thead th {\n",
       "        text-align: right;\n",
       "    }\n",
       "</style>\n",
       "<table border=\"1\" class=\"dataframe\">\n",
       "  <thead>\n",
       "    <tr style=\"text-align: right;\">\n",
       "      <th></th>\n",
       "      <th>x</th>\n",
       "      <th>y</th>\n",
       "      <th>name</th>\n",
       "      <th>image_id</th>\n",
       "      <th>X</th>\n",
       "      <th>Y</th>\n",
       "      <th>Z</th>\n",
       "    </tr>\n",
       "  </thead>\n",
       "  <tbody>\n",
       "    <tr>\n",
       "      <th>0</th>\n",
       "      <td>0</td>\n",
       "      <td>-10.8</td>\n",
       "      <td>T0</td>\n",
       "      <td>0</td>\n",
       "      <td>0.0</td>\n",
       "      <td>-216.0</td>\n",
       "      <td>0.0</td>\n",
       "    </tr>\n",
       "    <tr>\n",
       "      <th>1</th>\n",
       "      <td>0</td>\n",
       "      <td>0.0</td>\n",
       "      <td>T1</td>\n",
       "      <td>0</td>\n",
       "      <td>0.0</td>\n",
       "      <td>0.0</td>\n",
       "      <td>0.0</td>\n",
       "    </tr>\n",
       "    <tr>\n",
       "      <th>2</th>\n",
       "      <td>0</td>\n",
       "      <td>10.8</td>\n",
       "      <td>T2</td>\n",
       "      <td>0</td>\n",
       "      <td>0.0</td>\n",
       "      <td>216.0</td>\n",
       "      <td>0.0</td>\n",
       "    </tr>\n",
       "    <tr>\n",
       "      <th>3</th>\n",
       "      <td>0</td>\n",
       "      <td>-10.8</td>\n",
       "      <td>T0</td>\n",
       "      <td>1</td>\n",
       "      <td>288.0</td>\n",
       "      <td>-216.0</td>\n",
       "      <td>0.0</td>\n",
       "    </tr>\n",
       "    <tr>\n",
       "      <th>4</th>\n",
       "      <td>0</td>\n",
       "      <td>0.0</td>\n",
       "      <td>T1</td>\n",
       "      <td>1</td>\n",
       "      <td>288.0</td>\n",
       "      <td>0.0</td>\n",
       "      <td>0.0</td>\n",
       "    </tr>\n",
       "    <tr>\n",
       "      <th>5</th>\n",
       "      <td>0</td>\n",
       "      <td>10.8</td>\n",
       "      <td>T2</td>\n",
       "      <td>1</td>\n",
       "      <td>288.0</td>\n",
       "      <td>216.0</td>\n",
       "      <td>0.0</td>\n",
       "    </tr>\n",
       "  </tbody>\n",
       "</table>\n",
       "</div>"
      ],
      "text/plain": [
       "   x     y name image_id      X      Y    Z\n",
       "0  0 -10.8   T0        0    0.0 -216.0  0.0\n",
       "1  0   0.0   T1        0    0.0    0.0  0.0\n",
       "2  0  10.8   T2        0    0.0  216.0  0.0\n",
       "3  0 -10.8   T0        1  288.0 -216.0  0.0\n",
       "4  0   0.0   T1        1  288.0    0.0  0.0\n",
       "5  0  10.8   T2        1  288.0  216.0  0.0"
      ]
     },
     "execution_count": 10,
     "metadata": {},
     "output_type": "execute_result"
    }
   ],
   "source": [
    "block.images[0].tie_points\n"
   ]
  },
  {
   "cell_type": "code",
   "execution_count": 11,
   "metadata": {},
   "outputs": [
    {
     "data": {
      "image/png": "[encoded data removed]",
      "text/plain": [
       "<Figure size 720x720 with 1 Axes>"
      ]
     },
     "metadata": {
      "needs_background": "light"
     },
     "output_type": "display_data"
    }
   ],
   "source": [
    "ax = block.draw_block(anotate=True)\n",
    "ax.axis('equal')\n",
    "plt.show()"
   ]
  },
  {
   "cell_type": "code",
   "execution_count": 12,
   "metadata": {},
   "outputs": [
    {
     "name": "stdout",
     "output_type": "stream",
     "text": [
      "Images EOP:\n",
      "   Image     X0   Y0      Z0  omega  phi  kappa\n",
      "0    0.0    0.0  0.0  1000.0    0.0  0.0    0.0\n",
      "1    1.0  288.0  0.0  1000.0    0.0  0.0    0.0\n",
      "2    2.0  576.0  0.0  1000.0    0.0  0.0    0.0\n",
      "3    3.0  864.0  0.0  1000.0    0.0  0.0    0.0\n",
      "\n",
      "Tie points:\n",
      "   x     y name image_id      X      Y    Z\n",
      "0  0 -10.8   T0        0    0.0 -216.0  0.0\n",
      "1  0   0.0   T1        0    0.0    0.0  0.0\n",
      "2  0  10.8   T2        0    0.0  216.0  0.0\n",
      "0  0 -10.8   T0        1  288.0 -216.0  0.0\n",
      "1  0   0.0   T1        1  288.0    0.0  0.0\n",
      "2  0  10.8   T2        1  288.0  216.0  0.0\n",
      "0  0 -10.8   T0        2  576.0 -216.0  0.0\n",
      "1  0   0.0   T1        2  576.0    0.0  0.0\n",
      "2  0  10.8   T2        2  576.0  216.0  0.0\n",
      "0  0 -10.8   T0        3  864.0 -216.0  0.0\n",
      "1  0   0.0   T1        3  864.0    0.0  0.0\n",
      "2  0  10.8   T2        3  864.0  216.0  0.0\n",
      "\n",
      "Control points:\n",
      "             X           Y name  Z\n",
      "0    42.464387  -46.753978   C0  0\n",
      "1  -251.447503  -67.229440   C1  0\n",
      "2  1003.854592  162.238478   C2  0\n",
      "3   155.974626 -198.676496   C3  0\n",
      "4   652.848852 -117.551426   C4  0\n",
      "5   796.199612  157.312164   C5  0\n",
      "6   521.990562 -192.901120   C6  0\n",
      "7   423.248794  178.496442   C7  0\n",
      "8   316.962895 -175.385739   C8  0\n",
      "9   146.446698  165.157723   C9  0\n"
     ]
    }
   ],
   "source": [
    "block.describe_block()"
   ]
  }
 ],
 "metadata": {
  "kernelspec": {
   "display_name": "Python 3",
   "language": "python",
   "name": "python3"
  },
  "language_info": {
   "codemirror_mode": {
    "name": "ipython",
    "version": 3
   },
   "file_extension": ".py",
   "mimetype": "text/x-python",
   "name": "python",
   "nbconvert_exporter": "python",
   "pygments_lexer": "ipython3",
   "version": "3.10.11"
  },
  "orig_nbformat": 4
 },
 "nbformat": 4,
 "nbformat_minor": 2
}
